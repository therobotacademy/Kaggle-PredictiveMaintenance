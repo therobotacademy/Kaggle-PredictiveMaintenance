{
 "cells": [
  {
   "cell_type": "markdown",
   "metadata": {},
   "source": [
    "In this post we will use [Case Western Reserve University Bearnig](https://csegroups.case.edu/bearingdatacenter/pages/welcome-case-western-reserve-university-bearing-data-center-website) data set for our multiclass classification problem. \n",
    "\n",
    "## Description of dataset\n",
    "\n",
    "A bearing has four major parts: inner race, outer race, rolling element and cage. Fault can occur in any of these components. The CWRU data set contains bearing data consisting of inner race fault, outer race fault and ball defect. A baseline (normal) bearing data with no faults is also available. Some data are collected at a sampling frequency of 12 kHz and some other are collected at 48 kHz. In this study, we will only consider data acquired at 48 kHz sampling frequency. The faults have varying fault depths (0.007 inch, 0.014 inch, 0.021 inch). There is also load variation in motor (No load, 1 hp, 2 hp, 3hp). For this study, we will consider all the data with 1 hp external load.\n",
    "\n",
    "There are 10 classes for this external load (1 hp). The classes are:\n",
    "\n",
    "\n",
    "* C1  : Ball defect (0.007 inch)\n",
    "* C2  : Ball defect (0.014 inch)\n",
    "* C3  : Ball defect (0.021 inch)\n",
    "* C4  : Inner race fault (0.007 inch)\n",
    "* C5  : Inner race fault (0.014 inch)\n",
    "* C6  : Inner race fault (0.021 inch)\n",
    "* C7  : Normal\n",
    "* C8  : Outer race fault (0.007 inch, data collected from 6 O'clock position)\n",
    "* C9  : Outer race fault (0.014 inch, 6 O'clock)\n",
    "* C10 : Outer race fault (0.021 inch, 6 O'clock)\n",
    "\n",
    "## Solution Approach\n",
    "\n",
    "Our task is to classify these 10 types of fault given time data. There are many approaches to solve this. We will take one known as 'Shallow Approach'. In the age of deep learning these methods are shallow for several reasons. These methods require hand crafted features to be designed and fed into the learning algorithm. Another name for shallow approach is feature based approach. We will use support vector machine (SVM) to do the classification. We will apply other techniques including deep learning techniques in later posts. \n",
    "\n",
    "We have used time domain features as input to SVM. First data for each fault type are collected and segmented into smaller parts. In our case, one segment for each fault type contains 2048 data points. Then time domain features for each segment are calculated and assembled in a feature matrix. There are 230 segments for each fault and we have taken 9 time domain features. The time domain features are maximum, minimum, mean value, standard deviation, root mean square value (RMS), skewness, kurtosis, crest factor, and form factor. Thus our feature matrix is of size $(2300 \\times 9)$. One column containing fault type is also added to the feature matrix. Thus final feature matrix is of size $(2300 \\times 10)$. \n",
    "\n",
    "Before applying SVM, the data are first separated into a training set and a test set. The test set contains 75 rows of fault matrix chosen for each fault type. Thus its size is $(750 \\times 10)$. The rest are taken as training set. \n",
    "\n",
    "SVM is applied to training set data and best parameters are chosen by cross validation. The best parameters are then applied to test set data to predict final classification result. We will plot the confusion matrix. "
   ]
  },
  {
   "cell_type": "code",
   "execution_count": 38,
   "metadata": {},
   "outputs": [],
   "source": [
    "import pandas as pd\n",
    "import numpy as np\n",
    "from sklearn.model_selection import train_test_split\n",
    "from sklearn.preprocessing import StandardScaler\n",
    "from sklearn.model_selection import GridSearchCV\n",
    "from sklearn.svm import SVC\n",
    "from sklearn.metrics import confusion_matrix,accuracy_score\n",
    "import seaborn as sns\n",
    "import matplotlib.pyplot as plt"
   ]
  },
  {
   "cell_type": "markdown",
   "metadata": {},
   "source": [
    "### How to get data?\n",
    "Readers can download the `.csv` file used in this notebook from [here](https://github.com/biswajitsahoo1111/cbm_codes_open/blob/master/notebooks/data/feature_time_48k_2048_load_1.csv). Another convenient way is to [download the whole repository](https://codeload.github.com/biswajitsahoo1111/cbm_codes_open/legacy.zip/master) and run the downloaded notebooks."
   ]
  },
  {
   "cell_type": "code",
   "execution_count": 39,
   "metadata": {},
   "outputs": [],
   "source": [
    "data_time = pd.read_csv(\"./data/feature_time_48k_2048_load_1.csv\")"
   ]
  },
  {
   "cell_type": "code",
   "execution_count": 40,
   "metadata": {},
   "outputs": [
    {
     "data": {
      "text/html": [
       "<div>\n",
       "<style scoped>\n",
       "    .dataframe tbody tr th:only-of-type {\n",
       "        vertical-align: middle;\n",
       "    }\n",
       "\n",
       "    .dataframe tbody tr th {\n",
       "        vertical-align: top;\n",
       "    }\n",
       "\n",
       "    .dataframe thead th {\n",
       "        text-align: right;\n",
       "    }\n",
       "</style>\n",
       "<table border=\"1\" class=\"dataframe\">\n",
       "  <thead>\n",
       "    <tr style=\"text-align: right;\">\n",
       "      <th></th>\n",
       "      <th>max</th>\n",
       "      <th>min</th>\n",
       "      <th>mean</th>\n",
       "      <th>sd</th>\n",
       "      <th>rms</th>\n",
       "      <th>skewness</th>\n",
       "      <th>kurtosis</th>\n",
       "      <th>crest</th>\n",
       "      <th>form</th>\n",
       "      <th>fault</th>\n",
       "    </tr>\n",
       "  </thead>\n",
       "  <tbody>\n",
       "    <tr>\n",
       "      <th>0</th>\n",
       "      <td>0.35986</td>\n",
       "      <td>-0.41890</td>\n",
       "      <td>0.017840</td>\n",
       "      <td>0.122746</td>\n",
       "      <td>0.124006</td>\n",
       "      <td>-0.118571</td>\n",
       "      <td>-0.042219</td>\n",
       "      <td>2.901946</td>\n",
       "      <td>6.950855</td>\n",
       "      <td>Ball_007_1</td>\n",
       "    </tr>\n",
       "    <tr>\n",
       "      <th>1</th>\n",
       "      <td>0.46772</td>\n",
       "      <td>-0.36111</td>\n",
       "      <td>0.022255</td>\n",
       "      <td>0.132488</td>\n",
       "      <td>0.134312</td>\n",
       "      <td>0.174699</td>\n",
       "      <td>-0.081548</td>\n",
       "      <td>3.482334</td>\n",
       "      <td>6.035202</td>\n",
       "      <td>Ball_007_1</td>\n",
       "    </tr>\n",
       "    <tr>\n",
       "      <th>2</th>\n",
       "      <td>0.46855</td>\n",
       "      <td>-0.43809</td>\n",
       "      <td>0.020470</td>\n",
       "      <td>0.149651</td>\n",
       "      <td>0.151008</td>\n",
       "      <td>0.040339</td>\n",
       "      <td>-0.274069</td>\n",
       "      <td>3.102819</td>\n",
       "      <td>7.376926</td>\n",
       "      <td>Ball_007_1</td>\n",
       "    </tr>\n",
       "    <tr>\n",
       "      <th>3</th>\n",
       "      <td>0.58475</td>\n",
       "      <td>-0.54303</td>\n",
       "      <td>0.020960</td>\n",
       "      <td>0.157067</td>\n",
       "      <td>0.158422</td>\n",
       "      <td>-0.023266</td>\n",
       "      <td>0.134692</td>\n",
       "      <td>3.691097</td>\n",
       "      <td>7.558387</td>\n",
       "      <td>Ball_007_1</td>\n",
       "    </tr>\n",
       "    <tr>\n",
       "      <th>4</th>\n",
       "      <td>0.44685</td>\n",
       "      <td>-0.57891</td>\n",
       "      <td>0.022167</td>\n",
       "      <td>0.138189</td>\n",
       "      <td>0.139922</td>\n",
       "      <td>-0.081534</td>\n",
       "      <td>0.402783</td>\n",
       "      <td>3.193561</td>\n",
       "      <td>6.312085</td>\n",
       "      <td>Ball_007_1</td>\n",
       "    </tr>\n",
       "  </tbody>\n",
       "</table>\n",
       "</div>"
      ],
      "text/plain": [
       "       max      min      mean        sd       rms  skewness  kurtosis  \\\n",
       "0  0.35986 -0.41890  0.017840  0.122746  0.124006 -0.118571 -0.042219   \n",
       "1  0.46772 -0.36111  0.022255  0.132488  0.134312  0.174699 -0.081548   \n",
       "2  0.46855 -0.43809  0.020470  0.149651  0.151008  0.040339 -0.274069   \n",
       "3  0.58475 -0.54303  0.020960  0.157067  0.158422 -0.023266  0.134692   \n",
       "4  0.44685 -0.57891  0.022167  0.138189  0.139922 -0.081534  0.402783   \n",
       "\n",
       "      crest      form       fault  \n",
       "0  2.901946  6.950855  Ball_007_1  \n",
       "1  3.482334  6.035202  Ball_007_1  \n",
       "2  3.102819  7.376926  Ball_007_1  \n",
       "3  3.691097  7.558387  Ball_007_1  \n",
       "4  3.193561  6.312085  Ball_007_1  "
      ]
     },
     "execution_count": 40,
     "metadata": {},
     "output_type": "execute_result"
    }
   ],
   "source": [
    "#data_time.describe()\n",
    "data_time.head()"
   ]
  },
  {
   "cell_type": "code",
   "execution_count": 41,
   "metadata": {},
   "outputs": [],
   "source": [
    "#data_time['fault'] = pd.Categorical(data_time['fault'])"
   ]
  },
  {
   "cell_type": "code",
   "execution_count": 42,
   "metadata": {},
   "outputs": [
    {
     "data": {
      "text/plain": [
       "IR_007_1      230\n",
       "IR_021_1      230\n",
       "OR_014_6_1    230\n",
       "OR_021_6_1    230\n",
       "Normal_1      230\n",
       "Ball_014_1    230\n",
       "IR_014_1      230\n",
       "Ball_007_1    230\n",
       "OR_007_6_1    230\n",
       "Ball_021_1    230\n",
       "Name: fault, dtype: int64"
      ]
     },
     "execution_count": 42,
     "metadata": {},
     "output_type": "execute_result"
    }
   ],
   "source": [
    "# data_time.fault.unique()\n",
    "data_time['fault'].value_counts()"
   ]
  },
  {
   "cell_type": "markdown",
   "metadata": {},
   "source": [
    "There are 10 classes for this external load (1 hp). The classes are:\n",
    "*   **IR_007_1** # C1  : Ball defect (0.007 inch)\n",
    "*   **IR_014_1** # C2  : Ball defect (0.014 inch)\n",
    "*   **IR_021_1** # C3  : Ball defect (0.021 inch)\n",
    "*   **IR_007_1** # C4  : Inner race fault (0.007 inch)\n",
    "*   **IR_014_1** # C5  : Inner race fault (0.014 inch)\n",
    "*   **IR_021_1** # C6  : Inner race fault (0.021 inch)\n",
    "*   **Normal_1** # C7  : Normal\n",
    "* **OR_007_6_1** # C8  : Outer race fault (0.007 inch, data collected from 6 O'clock position)\n",
    "* **OR_014_6_1** # C9  : Outer race fault (0.014 inch, 6 O'clock)\n",
    "* **OR_021_6_1** # C10 : Outer race fault (0.021 inch, 6 O'clock)"
   ]
  },
  {
   "cell_type": "code",
   "execution_count": 63,
   "metadata": {},
   "outputs": [
    {
     "data": {
      "text/html": [
       "<div>\n",
       "<style scoped>\n",
       "    .dataframe tbody tr th:only-of-type {\n",
       "        vertical-align: middle;\n",
       "    }\n",
       "\n",
       "    .dataframe tbody tr th {\n",
       "        vertical-align: top;\n",
       "    }\n",
       "\n",
       "    .dataframe thead th {\n",
       "        text-align: right;\n",
       "    }\n",
       "</style>\n",
       "<table border=\"1\" class=\"dataframe\">\n",
       "  <thead>\n",
       "    <tr style=\"text-align: right;\">\n",
       "      <th></th>\n",
       "      <th>max</th>\n",
       "      <th>min</th>\n",
       "      <th>mean</th>\n",
       "      <th>sd</th>\n",
       "      <th>rms</th>\n",
       "      <th>skewness</th>\n",
       "      <th>kurtosis</th>\n",
       "      <th>crest</th>\n",
       "      <th>form</th>\n",
       "    </tr>\n",
       "  </thead>\n",
       "  <tbody>\n",
       "    <tr>\n",
       "      <th>count</th>\n",
       "      <td>230.000000</td>\n",
       "      <td>230.000000</td>\n",
       "      <td>230.000000</td>\n",
       "      <td>230.000000</td>\n",
       "      <td>230.000000</td>\n",
       "      <td>230.000000</td>\n",
       "      <td>230.000000</td>\n",
       "      <td>230.000000</td>\n",
       "      <td>230.000000</td>\n",
       "    </tr>\n",
       "    <tr>\n",
       "      <th>mean</th>\n",
       "      <td>0.469357</td>\n",
       "      <td>-0.424630</td>\n",
       "      <td>0.019104</td>\n",
       "      <td>0.139587</td>\n",
       "      <td>0.140874</td>\n",
       "      <td>0.011312</td>\n",
       "      <td>-0.008581</td>\n",
       "      <td>3.327671</td>\n",
       "      <td>7.459539</td>\n",
       "    </tr>\n",
       "    <tr>\n",
       "      <th>std</th>\n",
       "      <td>0.065202</td>\n",
       "      <td>0.060713</td>\n",
       "      <td>0.002126</td>\n",
       "      <td>0.010017</td>\n",
       "      <td>0.009965</td>\n",
       "      <td>0.069508</td>\n",
       "      <td>0.283696</td>\n",
       "      <td>0.353823</td>\n",
       "      <td>0.945067</td>\n",
       "    </tr>\n",
       "    <tr>\n",
       "      <th>min</th>\n",
       "      <td>0.312710</td>\n",
       "      <td>-0.616040</td>\n",
       "      <td>0.012815</td>\n",
       "      <td>0.115848</td>\n",
       "      <td>0.117736</td>\n",
       "      <td>-0.159351</td>\n",
       "      <td>-0.626142</td>\n",
       "      <td>2.537506</td>\n",
       "      <td>5.377638</td>\n",
       "    </tr>\n",
       "    <tr>\n",
       "      <th>25%</th>\n",
       "      <td>0.425525</td>\n",
       "      <td>-0.456135</td>\n",
       "      <td>0.017842</td>\n",
       "      <td>0.133509</td>\n",
       "      <td>0.134660</td>\n",
       "      <td>-0.043265</td>\n",
       "      <td>-0.222445</td>\n",
       "      <td>3.088583</td>\n",
       "      <td>6.818491</td>\n",
       "    </tr>\n",
       "    <tr>\n",
       "      <th>50%</th>\n",
       "      <td>0.458120</td>\n",
       "      <td>-0.414830</td>\n",
       "      <td>0.018891</td>\n",
       "      <td>0.138749</td>\n",
       "      <td>0.139884</td>\n",
       "      <td>0.007629</td>\n",
       "      <td>-0.042934</td>\n",
       "      <td>3.284040</td>\n",
       "      <td>7.332604</td>\n",
       "    </tr>\n",
       "    <tr>\n",
       "      <th>75%</th>\n",
       "      <td>0.502350</td>\n",
       "      <td>-0.379103</td>\n",
       "      <td>0.020299</td>\n",
       "      <td>0.146015</td>\n",
       "      <td>0.147091</td>\n",
       "      <td>0.064074</td>\n",
       "      <td>0.147930</td>\n",
       "      <td>3.530102</td>\n",
       "      <td>8.062528</td>\n",
       "    </tr>\n",
       "    <tr>\n",
       "      <th>max</th>\n",
       "      <td>0.675500</td>\n",
       "      <td>-0.318970</td>\n",
       "      <td>0.023994</td>\n",
       "      <td>0.171796</td>\n",
       "      <td>0.173001</td>\n",
       "      <td>0.174699</td>\n",
       "      <td>1.329710</td>\n",
       "      <td>4.625105</td>\n",
       "      <td>11.313216</td>\n",
       "    </tr>\n",
       "  </tbody>\n",
       "</table>\n",
       "</div>"
      ],
      "text/plain": [
       "              max         min        mean          sd         rms    skewness  \\\n",
       "count  230.000000  230.000000  230.000000  230.000000  230.000000  230.000000   \n",
       "mean     0.469357   -0.424630    0.019104    0.139587    0.140874    0.011312   \n",
       "std      0.065202    0.060713    0.002126    0.010017    0.009965    0.069508   \n",
       "min      0.312710   -0.616040    0.012815    0.115848    0.117736   -0.159351   \n",
       "25%      0.425525   -0.456135    0.017842    0.133509    0.134660   -0.043265   \n",
       "50%      0.458120   -0.414830    0.018891    0.138749    0.139884    0.007629   \n",
       "75%      0.502350   -0.379103    0.020299    0.146015    0.147091    0.064074   \n",
       "max      0.675500   -0.318970    0.023994    0.171796    0.173001    0.174699   \n",
       "\n",
       "         kurtosis       crest        form  \n",
       "count  230.000000  230.000000  230.000000  \n",
       "mean    -0.008581    3.327671    7.459539  \n",
       "std      0.283696    0.353823    0.945067  \n",
       "min     -0.626142    2.537506    5.377638  \n",
       "25%     -0.222445    3.088583    6.818491  \n",
       "50%     -0.042934    3.284040    7.332604  \n",
       "75%      0.147930    3.530102    8.062528  \n",
       "max      1.329710    4.625105   11.313216  "
      ]
     },
     "execution_count": 63,
     "metadata": {},
     "output_type": "execute_result"
    }
   ],
   "source": [
    "data_time[data_time['fault'] == \"Ball_007_1\"].describe()"
   ]
  },
  {
   "cell_type": "markdown",
   "metadata": {},
   "source": [
    "Divide the into training and test set."
   ]
  },
  {
   "cell_type": "code",
   "execution_count": 43,
   "metadata": {},
   "outputs": [
    {
     "data": {
      "text/plain": [
       "IR_007_1      75\n",
       "Normal_1      75\n",
       "Ball_014_1    75\n",
       "IR_014_1      75\n",
       "IR_021_1      75\n",
       "Ball_007_1    75\n",
       "OR_007_6_1    75\n",
       "OR_014_6_1    75\n",
       "OR_021_6_1    75\n",
       "Ball_021_1    75\n",
       "Name: fault, dtype: int64"
      ]
     },
     "execution_count": 43,
     "metadata": {},
     "output_type": "execute_result"
    }
   ],
   "source": [
    "train_data, test_data = train_test_split(data_time, test_size = 750, stratify = data_time['fault'],\n",
    "                                         random_state = 1234)\n",
    "test_data['fault'].value_counts()"
   ]
  },
  {
   "cell_type": "code",
   "execution_count": 44,
   "metadata": {},
   "outputs": [
    {
     "data": {
      "text/plain": [
       "(2300, 10)"
      ]
     },
     "execution_count": 44,
     "metadata": {},
     "output_type": "execute_result"
    }
   ],
   "source": [
    "data_time.shape"
   ]
  },
  {
   "cell_type": "markdown",
   "metadata": {},
   "source": [
    "Before applying SVM, it is always a better idea to scale the data."
   ]
  },
  {
   "cell_type": "code",
   "execution_count": 45,
   "metadata": {},
   "outputs": [
    {
     "data": {
      "text/html": [
       "<div>\n",
       "<style scoped>\n",
       "    .dataframe tbody tr th:only-of-type {\n",
       "        vertical-align: middle;\n",
       "    }\n",
       "\n",
       "    .dataframe tbody tr th {\n",
       "        vertical-align: top;\n",
       "    }\n",
       "\n",
       "    .dataframe thead th {\n",
       "        text-align: right;\n",
       "    }\n",
       "</style>\n",
       "<table border=\"1\" class=\"dataframe\">\n",
       "  <thead>\n",
       "    <tr style=\"text-align: right;\">\n",
       "      <th></th>\n",
       "      <th>0</th>\n",
       "      <th>1</th>\n",
       "      <th>2</th>\n",
       "      <th>3</th>\n",
       "      <th>4</th>\n",
       "      <th>5</th>\n",
       "      <th>6</th>\n",
       "      <th>7</th>\n",
       "      <th>8</th>\n",
       "    </tr>\n",
       "  </thead>\n",
       "  <tbody>\n",
       "    <tr>\n",
       "      <th>count</th>\n",
       "      <td>1.550000e+03</td>\n",
       "      <td>1.550000e+03</td>\n",
       "      <td>1.550000e+03</td>\n",
       "      <td>1.550000e+03</td>\n",
       "      <td>1.550000e+03</td>\n",
       "      <td>1.550000e+03</td>\n",
       "      <td>1.550000e+03</td>\n",
       "      <td>1.550000e+03</td>\n",
       "      <td>1.550000e+03</td>\n",
       "    </tr>\n",
       "    <tr>\n",
       "      <th>mean</th>\n",
       "      <td>1.219097e-16</td>\n",
       "      <td>9.963356e-17</td>\n",
       "      <td>9.030411e-17</td>\n",
       "      <td>3.839223e-17</td>\n",
       "      <td>-7.083939e-17</td>\n",
       "      <td>-5.813450e-17</td>\n",
       "      <td>-3.724619e-17</td>\n",
       "      <td>4.862777e-16</td>\n",
       "      <td>-2.198958e-17</td>\n",
       "    </tr>\n",
       "    <tr>\n",
       "      <th>std</th>\n",
       "      <td>1.000323e+00</td>\n",
       "      <td>1.000323e+00</td>\n",
       "      <td>1.000323e+00</td>\n",
       "      <td>1.000323e+00</td>\n",
       "      <td>1.000323e+00</td>\n",
       "      <td>1.000323e+00</td>\n",
       "      <td>1.000323e+00</td>\n",
       "      <td>1.000323e+00</td>\n",
       "      <td>1.000323e+00</td>\n",
       "    </tr>\n",
       "    <tr>\n",
       "      <th>min</th>\n",
       "      <td>-8.877055e-01</td>\n",
       "      <td>-2.951564e+00</td>\n",
       "      <td>-1.935376e+00</td>\n",
       "      <td>-9.258092e-01</td>\n",
       "      <td>-9.231913e-01</td>\n",
       "      <td>-5.951422e+00</td>\n",
       "      <td>-7.874742e-01</td>\n",
       "      <td>-1.481163e+00</td>\n",
       "      <td>-7.775653e-01</td>\n",
       "    </tr>\n",
       "    <tr>\n",
       "      <th>25%</th>\n",
       "      <td>-7.088474e-01</td>\n",
       "      <td>-3.753614e-01</td>\n",
       "      <td>-6.908705e-01</td>\n",
       "      <td>-6.755048e-01</td>\n",
       "      <td>-6.760659e-01</td>\n",
       "      <td>-3.678525e-01</td>\n",
       "      <td>-6.073122e-01</td>\n",
       "      <td>-8.064817e-01</td>\n",
       "      <td>-6.475107e-01</td>\n",
       "    </tr>\n",
       "    <tr>\n",
       "      <th>50%</th>\n",
       "      <td>-4.958143e-01</td>\n",
       "      <td>5.113022e-01</td>\n",
       "      <td>-3.141526e-01</td>\n",
       "      <td>-5.055027e-01</td>\n",
       "      <td>-5.038108e-01</td>\n",
       "      <td>2.140248e-01</td>\n",
       "      <td>-4.182916e-01</td>\n",
       "      <td>-2.135605e-01</td>\n",
       "      <td>-4.548003e-01</td>\n",
       "    </tr>\n",
       "    <tr>\n",
       "      <th>75%</th>\n",
       "      <td>4.477234e-01</td>\n",
       "      <td>7.003484e-01</td>\n",
       "      <td>4.560105e-01</td>\n",
       "      <td>7.015641e-01</td>\n",
       "      <td>7.003255e-01</td>\n",
       "      <td>5.823124e-01</td>\n",
       "      <td>2.860828e-01</td>\n",
       "      <td>5.648177e-01</td>\n",
       "      <td>4.360429e-01</td>\n",
       "    </tr>\n",
       "    <tr>\n",
       "      <th>max</th>\n",
       "      <td>3.297226e+00</td>\n",
       "      <td>8.671141e-01</td>\n",
       "      <td>3.503861e+00</td>\n",
       "      <td>2.980548e+00</td>\n",
       "      <td>2.981995e+00</td>\n",
       "      <td>4.906756e+00</td>\n",
       "      <td>6.349353e+00</td>\n",
       "      <td>4.049712e+00</td>\n",
       "      <td>9.629399e+00</td>\n",
       "    </tr>\n",
       "  </tbody>\n",
       "</table>\n",
       "</div>"
      ],
      "text/plain": [
       "                  0             1             2             3             4  \\\n",
       "count  1.550000e+03  1.550000e+03  1.550000e+03  1.550000e+03  1.550000e+03   \n",
       "mean   1.219097e-16  9.963356e-17  9.030411e-17  3.839223e-17 -7.083939e-17   \n",
       "std    1.000323e+00  1.000323e+00  1.000323e+00  1.000323e+00  1.000323e+00   \n",
       "min   -8.877055e-01 -2.951564e+00 -1.935376e+00 -9.258092e-01 -9.231913e-01   \n",
       "25%   -7.088474e-01 -3.753614e-01 -6.908705e-01 -6.755048e-01 -6.760659e-01   \n",
       "50%   -4.958143e-01  5.113022e-01 -3.141526e-01 -5.055027e-01 -5.038108e-01   \n",
       "75%    4.477234e-01  7.003484e-01  4.560105e-01  7.015641e-01  7.003255e-01   \n",
       "max    3.297226e+00  8.671141e-01  3.503861e+00  2.980548e+00  2.981995e+00   \n",
       "\n",
       "                  5             6             7             8  \n",
       "count  1.550000e+03  1.550000e+03  1.550000e+03  1.550000e+03  \n",
       "mean  -5.813450e-17 -3.724619e-17  4.862777e-16 -2.198958e-17  \n",
       "std    1.000323e+00  1.000323e+00  1.000323e+00  1.000323e+00  \n",
       "min   -5.951422e+00 -7.874742e-01 -1.481163e+00 -7.775653e-01  \n",
       "25%   -3.678525e-01 -6.073122e-01 -8.064817e-01 -6.475107e-01  \n",
       "50%    2.140248e-01 -4.182916e-01 -2.135605e-01 -4.548003e-01  \n",
       "75%    5.823124e-01  2.860828e-01  5.648177e-01  4.360429e-01  \n",
       "max    4.906756e+00  6.349353e+00  4.049712e+00  9.629399e+00  "
      ]
     },
     "execution_count": 45,
     "metadata": {},
     "output_type": "execute_result"
    }
   ],
   "source": [
    "scaler = StandardScaler()\n",
    "train_data_scaled = scaler.fit_transform(train_data.iloc[:,:-1])\n",
    "\n",
    "# pd.DataFrame(train_data).describe()\n",
    "pd.DataFrame(train_data_scaled).describe()"
   ]
  },
  {
   "cell_type": "code",
   "execution_count": 46,
   "metadata": {},
   "outputs": [
    {
     "data": {
      "text/plain": [
       "array([ 1.58219286e+00, -1.55271056e+00,  1.57490331e-02,  3.42933667e-01,\n",
       "        3.43624109e-01, -4.02053997e-02,  2.63759871e+00,  4.16961660e+00,\n",
       "        2.66656364e+01])"
      ]
     },
     "execution_count": 46,
     "metadata": {},
     "output_type": "execute_result"
    }
   ],
   "source": [
    "# Average value of each column in train_data\n",
    "#   - To be used for test_data normalization\n",
    "scaler.mean_"
   ]
  },
  {
   "cell_type": "code",
   "execution_count": 47,
   "metadata": {},
   "outputs": [
    {
     "data": {
      "text/plain": [
       "array([1.59033918e+00, 1.60589082e+00, 6.46050379e-03, 3.06535375e-01,\n",
       "       3.06065962e-01, 1.74519408e-01, 4.37016635e+00, 1.14871378e+00,\n",
       "       2.98125524e+01])"
      ]
     },
     "execution_count": 47,
     "metadata": {},
     "output_type": "execute_result"
    }
   ],
   "source": [
    "# Standard deviation of each column in train_data\n",
    "#   - To be used for test_data normalization\n",
    "np.sqrt(scaler.var_)"
   ]
  },
  {
   "cell_type": "code",
   "execution_count": 48,
   "metadata": {},
   "outputs": [
    {
     "data": {
      "text/html": [
       "<div>\n",
       "<style scoped>\n",
       "    .dataframe tbody tr th:only-of-type {\n",
       "        vertical-align: middle;\n",
       "    }\n",
       "\n",
       "    .dataframe tbody tr th {\n",
       "        vertical-align: top;\n",
       "    }\n",
       "\n",
       "    .dataframe thead th {\n",
       "        text-align: right;\n",
       "    }\n",
       "</style>\n",
       "<table border=\"1\" class=\"dataframe\">\n",
       "  <thead>\n",
       "    <tr style=\"text-align: right;\">\n",
       "      <th></th>\n",
       "      <th>0</th>\n",
       "      <th>1</th>\n",
       "      <th>2</th>\n",
       "      <th>3</th>\n",
       "      <th>4</th>\n",
       "      <th>5</th>\n",
       "      <th>6</th>\n",
       "      <th>7</th>\n",
       "      <th>8</th>\n",
       "    </tr>\n",
       "  </thead>\n",
       "  <tbody>\n",
       "    <tr>\n",
       "      <th>count</th>\n",
       "      <td>750.000000</td>\n",
       "      <td>750.000000</td>\n",
       "      <td>750.000000</td>\n",
       "      <td>750.000000</td>\n",
       "      <td>750.000000</td>\n",
       "      <td>750.000000</td>\n",
       "      <td>750.000000</td>\n",
       "      <td>750.000000</td>\n",
       "      <td>750.000000</td>\n",
       "    </tr>\n",
       "    <tr>\n",
       "      <th>mean</th>\n",
       "      <td>-0.013718</td>\n",
       "      <td>0.003277</td>\n",
       "      <td>-0.018151</td>\n",
       "      <td>-0.013327</td>\n",
       "      <td>-0.013375</td>\n",
       "      <td>-0.035946</td>\n",
       "      <td>0.018838</td>\n",
       "      <td>0.009379</td>\n",
       "      <td>-0.012433</td>\n",
       "    </tr>\n",
       "    <tr>\n",
       "      <th>std</th>\n",
       "      <td>0.976752</td>\n",
       "      <td>0.993896</td>\n",
       "      <td>1.003708</td>\n",
       "      <td>0.987301</td>\n",
       "      <td>0.987315</td>\n",
       "      <td>1.105931</td>\n",
       "      <td>1.028360</td>\n",
       "      <td>0.998996</td>\n",
       "      <td>0.936491</td>\n",
       "    </tr>\n",
       "    <tr>\n",
       "      <th>min</th>\n",
       "      <td>-0.895968</td>\n",
       "      <td>-2.754539</td>\n",
       "      <td>-1.590184</td>\n",
       "      <td>-0.922087</td>\n",
       "      <td>-0.922953</td>\n",
       "      <td>-6.014935</td>\n",
       "      <td>-0.759377</td>\n",
       "      <td>-1.515700</td>\n",
       "      <td>-0.772309</td>\n",
       "    </tr>\n",
       "    <tr>\n",
       "      <th>25%</th>\n",
       "      <td>-0.706453</td>\n",
       "      <td>-0.429163</td>\n",
       "      <td>-0.720867</td>\n",
       "      <td>-0.677965</td>\n",
       "      <td>-0.678545</td>\n",
       "      <td>-0.355683</td>\n",
       "      <td>-0.606352</td>\n",
       "      <td>-0.762882</td>\n",
       "      <td>-0.641796</td>\n",
       "    </tr>\n",
       "    <tr>\n",
       "      <th>50%</th>\n",
       "      <td>-0.494044</td>\n",
       "      <td>0.503185</td>\n",
       "      <td>-0.303458</td>\n",
       "      <td>-0.492809</td>\n",
       "      <td>-0.490457</td>\n",
       "      <td>0.224657</td>\n",
       "      <td>-0.415267</td>\n",
       "      <td>-0.219297</td>\n",
       "      <td>-0.452940</td>\n",
       "    </tr>\n",
       "    <tr>\n",
       "      <th>75%</th>\n",
       "      <td>0.394936</td>\n",
       "      <td>0.704214</td>\n",
       "      <td>0.401811</td>\n",
       "      <td>0.669274</td>\n",
       "      <td>0.667916</td>\n",
       "      <td>0.576534</td>\n",
       "      <td>0.294171</td>\n",
       "      <td>0.547845</td>\n",
       "      <td>0.447909</td>\n",
       "    </tr>\n",
       "    <tr>\n",
       "      <th>max</th>\n",
       "      <td>3.008545</td>\n",
       "      <td>0.861398</td>\n",
       "      <td>3.003970</td>\n",
       "      <td>2.885914</td>\n",
       "      <td>2.887282</td>\n",
       "      <td>6.301407</td>\n",
       "      <td>5.007205</td>\n",
       "      <td>3.784107</td>\n",
       "      <td>3.531440</td>\n",
       "    </tr>\n",
       "  </tbody>\n",
       "</table>\n",
       "</div>"
      ],
      "text/plain": [
       "                0           1           2           3           4           5  \\\n",
       "count  750.000000  750.000000  750.000000  750.000000  750.000000  750.000000   \n",
       "mean    -0.013718    0.003277   -0.018151   -0.013327   -0.013375   -0.035946   \n",
       "std      0.976752    0.993896    1.003708    0.987301    0.987315    1.105931   \n",
       "min     -0.895968   -2.754539   -1.590184   -0.922087   -0.922953   -6.014935   \n",
       "25%     -0.706453   -0.429163   -0.720867   -0.677965   -0.678545   -0.355683   \n",
       "50%     -0.494044    0.503185   -0.303458   -0.492809   -0.490457    0.224657   \n",
       "75%      0.394936    0.704214    0.401811    0.669274    0.667916    0.576534   \n",
       "max      3.008545    0.861398    3.003970    2.885914    2.887282    6.301407   \n",
       "\n",
       "                6           7           8  \n",
       "count  750.000000  750.000000  750.000000  \n",
       "mean     0.018838    0.009379   -0.012433  \n",
       "std      1.028360    0.998996    0.936491  \n",
       "min     -0.759377   -1.515700   -0.772309  \n",
       "25%     -0.606352   -0.762882   -0.641796  \n",
       "50%     -0.415267   -0.219297   -0.452940  \n",
       "75%      0.294171    0.547845    0.447909  \n",
       "max      5.007205    3.784107    3.531440  "
      ]
     },
     "execution_count": 48,
     "metadata": {},
     "output_type": "execute_result"
    }
   ],
   "source": [
    "test_data_scaled = (test_data.iloc[:,:-1].values - scaler.mean_)/np.sqrt(scaler.var_)\n",
    "pd.DataFrame(test_data_scaled).describe()"
   ]
  },
  {
   "cell_type": "markdown",
   "metadata": {},
   "source": [
    "We will check a grid of parameters to find the best one. For each parameter combination, 10 fold cross-validation is performed."
   ]
  },
  {
   "cell_type": "code",
   "execution_count": 49,
   "metadata": {},
   "outputs": [
    {
     "data": {
      "text/plain": [
       "{'C': [1, 10, 50, 100, 300, 500],\n",
       " 'gamma': [0.01, 0.05, 0.1, 0.5, 1, 5],\n",
       " 'kernel': ['rbf']}"
      ]
     },
     "execution_count": 49,
     "metadata": {},
     "output_type": "execute_result"
    }
   ],
   "source": [
    "parameters = {\"C\":[1, 10, 50, 100, 300, 500],\n",
    "             'gamma':[0.01, 0.05, 0.1, 0.5, 1, 5],\n",
    "             'kernel':[\"rbf\"]}\n",
    "parameters"
   ]
  },
  {
   "cell_type": "code",
   "execution_count": 50,
   "metadata": {},
   "outputs": [],
   "source": [
    "tuned_svm_clf = GridSearchCV(SVC(),parameters,n_jobs = -1, cv= 10)"
   ]
  },
  {
   "cell_type": "code",
   "execution_count": 51,
   "metadata": {},
   "outputs": [
    {
     "data": {
      "text/plain": [
       "GridSearchCV(cv=10, estimator=SVC(), n_jobs=-1,\n",
       "             param_grid={'C': [1, 10, 50, 100, 300, 500],\n",
       "                         'gamma': [0.01, 0.05, 0.1, 0.5, 1, 5],\n",
       "                         'kernel': ['rbf']})"
      ]
     },
     "execution_count": 51,
     "metadata": {},
     "output_type": "execute_result"
    }
   ],
   "source": [
    "# Here we run a grid search over SVM on training data for every set of parameters,\n",
    "#   and determine the best combination of them\n",
    "tuned_svm_clf.fit(train_data_scaled, train_data['fault'])"
   ]
  },
  {
   "cell_type": "code",
   "execution_count": 52,
   "metadata": {},
   "outputs": [
    {
     "data": {
      "text/plain": [
       "{'C': 50, 'gamma': 0.05, 'kernel': 'rbf'}"
      ]
     },
     "execution_count": 52,
     "metadata": {},
     "output_type": "execute_result"
    }
   ],
   "source": [
    "tuned_svm_clf.best_params_"
   ]
  },
  {
   "cell_type": "code",
   "execution_count": 53,
   "metadata": {},
   "outputs": [
    {
     "data": {
      "text/plain": [
       "0.9606451612903226"
      ]
     },
     "execution_count": 53,
     "metadata": {},
     "output_type": "execute_result"
    }
   ],
   "source": [
    "tuned_svm_clf.best_score_"
   ]
  },
  {
   "cell_type": "markdown",
   "metadata": {},
   "source": [
    "Now we will used the best model to find test accuracy."
   ]
  },
  {
   "cell_type": "code",
   "execution_count": 54,
   "metadata": {},
   "outputs": [
    {
     "data": {
      "text/plain": [
       "SVC(C=50, gamma=0.05)"
      ]
     },
     "execution_count": 54,
     "metadata": {},
     "output_type": "execute_result"
    }
   ],
   "source": [
    "best_clf = tuned_svm_clf.best_estimator_\n",
    "best_clf"
   ]
  },
  {
   "cell_type": "code",
   "execution_count": 59,
   "metadata": {},
   "outputs": [
    {
     "data": {
      "text/plain": [
       "array(['IR_021_1', 'OR_014_6_1', 'Ball_021_1', ..., 'IR_014_1',\n",
       "       'Normal_1', 'Ball_021_1'], dtype=object)"
      ]
     },
     "execution_count": 59,
     "metadata": {},
     "output_type": "execute_result"
    }
   ],
   "source": [
    "# Use the tunned SVM model to compute the predictions\n",
    "train_predictions = best_clf.predict(train_data_scaled)\n",
    "test_predictions = best_clf.predict(test_data_scaled)\n",
    "train_predictions"
   ]
  },
  {
   "cell_type": "code",
   "execution_count": 65,
   "metadata": {},
   "outputs": [
    {
     "data": {
      "text/plain": [
       "array(['OR_007_6_1', 'IR_014_1', 'OR_014_6_1', 'OR_021_6_1', 'OR_007_6_1',\n",
       "       'Normal_1', 'IR_021_1', 'Ball_014_1', 'IR_021_1', 'Normal_1',\n",
       "       'OR_014_6_1', 'Ball_007_1', 'Ball_021_1', 'IR_021_1', 'Normal_1',\n",
       "       'IR_014_1', 'Ball_021_1', 'Ball_021_1', 'OR_021_6_1', 'OR_007_6_1',\n",
       "       'IR_007_1', 'OR_007_6_1', 'Ball_007_1', 'Normal_1', 'Normal_1',\n",
       "       'IR_014_1', 'OR_021_6_1', 'OR_007_6_1', 'OR_014_6_1', 'IR_014_1',\n",
       "       'Normal_1', 'Ball_014_1', 'Ball_007_1', 'Ball_021_1', 'IR_021_1',\n",
       "       'OR_014_6_1', 'IR_021_1', 'Ball_021_1', 'Ball_014_1', 'OR_014_6_1',\n",
       "       'OR_021_6_1', 'OR_014_6_1', 'Ball_007_1', 'IR_014_1', 'Normal_1',\n",
       "       'Normal_1', 'Ball_007_1', 'OR_014_6_1', 'Ball_021_1', 'IR_021_1',\n",
       "       'OR_007_6_1', 'IR_007_1', 'IR_007_1', 'IR_007_1', 'Normal_1',\n",
       "       'IR_021_1', 'IR_021_1', 'Ball_007_1', 'Ball_007_1', 'Normal_1',\n",
       "       'OR_014_6_1', 'Ball_021_1', 'OR_021_6_1', 'OR_007_6_1',\n",
       "       'Ball_014_1', 'IR_007_1', 'OR_007_6_1', 'Ball_014_1', 'IR_007_1',\n",
       "       'OR_021_6_1', 'OR_021_6_1', 'Ball_007_1', 'Ball_007_1',\n",
       "       'OR_007_6_1', 'IR_014_1', 'OR_007_6_1', 'OR_021_6_1', 'OR_014_6_1',\n",
       "       'OR_007_6_1', 'Ball_007_1', 'OR_014_6_1', 'Normal_1', 'Ball_021_1',\n",
       "       'Ball_007_1', 'IR_014_1', 'IR_021_1', 'OR_007_6_1', 'Ball_007_1',\n",
       "       'IR_007_1', 'Ball_014_1', 'OR_007_6_1', 'IR_007_1', 'IR_014_1',\n",
       "       'OR_014_6_1', 'OR_007_6_1', 'OR_014_6_1', 'IR_014_1', 'IR_014_1',\n",
       "       'Ball_007_1', 'OR_021_6_1', 'Ball_021_1', 'Ball_021_1', 'IR_014_1',\n",
       "       'IR_007_1', 'IR_007_1', 'OR_021_6_1', 'IR_021_1', 'OR_014_6_1',\n",
       "       'Normal_1', 'IR_014_1', 'Ball_021_1', 'IR_014_1', 'OR_007_6_1',\n",
       "       'OR_021_6_1', 'Ball_021_1', 'Normal_1', 'Ball_014_1', 'Ball_014_1',\n",
       "       'IR_014_1', 'IR_014_1', 'Normal_1', 'OR_021_6_1', 'IR_007_1',\n",
       "       'Ball_014_1', 'Ball_014_1', 'IR_014_1', 'IR_014_1', 'Ball_014_1',\n",
       "       'IR_014_1', 'Normal_1', 'OR_014_6_1', 'Ball_007_1', 'IR_007_1',\n",
       "       'IR_014_1', 'OR_007_6_1', 'Ball_021_1', 'Normal_1', 'IR_021_1',\n",
       "       'Normal_1', 'IR_021_1', 'Ball_007_1', 'OR_021_6_1', 'OR_014_6_1',\n",
       "       'IR_021_1', 'IR_014_1', 'IR_021_1', 'IR_007_1', 'OR_021_6_1',\n",
       "       'IR_021_1', 'Ball_007_1', 'Ball_014_1', 'IR_021_1', 'Normal_1',\n",
       "       'Normal_1', 'OR_021_6_1', 'Normal_1', 'OR_014_6_1', 'Ball_007_1',\n",
       "       'Ball_014_1', 'Ball_007_1', 'Normal_1', 'OR_014_6_1', 'OR_014_6_1',\n",
       "       'Normal_1', 'IR_021_1', 'Ball_007_1', 'Normal_1', 'Ball_014_1',\n",
       "       'OR_014_6_1', 'IR_007_1', 'Ball_021_1', 'Normal_1', 'IR_007_1',\n",
       "       'OR_007_6_1', 'Normal_1', 'IR_007_1', 'OR_021_6_1', 'Ball_007_1',\n",
       "       'IR_007_1', 'IR_014_1', 'Ball_021_1', 'Normal_1', 'IR_007_1',\n",
       "       'IR_014_1', 'Ball_007_1', 'IR_021_1', 'OR_021_6_1', 'OR_014_6_1',\n",
       "       'OR_007_6_1', 'OR_021_6_1', 'Ball_007_1', 'IR_021_1', 'Normal_1',\n",
       "       'IR_014_1', 'Ball_007_1', 'Ball_007_1', 'IR_007_1', 'IR_014_1',\n",
       "       'IR_021_1', 'Ball_021_1', 'IR_021_1', 'Ball_014_1', 'Ball_014_1',\n",
       "       'IR_021_1', 'OR_014_6_1', 'OR_007_6_1', 'OR_007_6_1', 'IR_007_1',\n",
       "       'IR_021_1', 'Ball_007_1', 'OR_021_6_1', 'OR_007_6_1', 'OR_021_6_1',\n",
       "       'IR_007_1', 'Ball_007_1', 'OR_014_6_1', 'IR_014_1', 'IR_014_1',\n",
       "       'Ball_014_1', 'IR_007_1', 'IR_021_1', 'IR_014_1', 'OR_014_6_1',\n",
       "       'OR_014_6_1', 'OR_007_6_1', 'IR_007_1', 'Ball_014_1', 'IR_007_1',\n",
       "       'IR_021_1', 'IR_014_1', 'IR_007_1', 'IR_021_1', 'OR_007_6_1',\n",
       "       'OR_007_6_1', 'Ball_021_1', 'IR_021_1', 'Ball_021_1', 'IR_014_1',\n",
       "       'OR_021_6_1', 'OR_021_6_1', 'Ball_014_1', 'IR_014_1', 'OR_021_6_1',\n",
       "       'Ball_007_1', 'OR_014_6_1', 'Normal_1', 'OR_007_6_1', 'Ball_007_1',\n",
       "       'Ball_021_1', 'Normal_1', 'IR_007_1', 'IR_014_1', 'IR_007_1',\n",
       "       'Ball_007_1', 'Ball_007_1', 'Ball_007_1', 'Ball_021_1',\n",
       "       'Ball_021_1', 'OR_014_6_1', 'Ball_014_1', 'Ball_014_1',\n",
       "       'OR_007_6_1', 'OR_007_6_1', 'Ball_021_1', 'OR_007_6_1',\n",
       "       'Ball_014_1', 'Normal_1', 'Ball_007_1', 'Ball_014_1', 'Ball_014_1',\n",
       "       'Ball_007_1', 'OR_014_6_1', 'OR_014_6_1', 'Normal_1', 'Ball_007_1',\n",
       "       'Ball_021_1', 'IR_007_1', 'Ball_007_1', 'OR_007_6_1', 'Normal_1',\n",
       "       'Ball_014_1', 'Ball_007_1', 'IR_021_1', 'Ball_021_1', 'OR_007_6_1',\n",
       "       'OR_007_6_1', 'OR_007_6_1', 'Normal_1', 'Normal_1', 'Normal_1',\n",
       "       'Ball_021_1', 'IR_021_1', 'Ball_007_1', 'Ball_021_1', 'Ball_021_1',\n",
       "       'IR_007_1', 'OR_014_6_1', 'Ball_021_1', 'Normal_1', 'Ball_021_1',\n",
       "       'IR_014_1', 'OR_007_6_1', 'Ball_007_1', 'IR_021_1', 'Ball_014_1',\n",
       "       'Ball_007_1', 'IR_021_1', 'IR_021_1', 'OR_021_6_1', 'Ball_014_1',\n",
       "       'IR_021_1', 'Ball_007_1', 'OR_021_6_1', 'IR_021_1', 'IR_021_1',\n",
       "       'Ball_007_1', 'Ball_014_1', 'IR_014_1', 'Normal_1', 'Normal_1',\n",
       "       'Ball_014_1', 'OR_014_6_1', 'Ball_007_1', 'IR_021_1', 'IR_014_1',\n",
       "       'IR_014_1', 'IR_021_1', 'IR_014_1', 'OR_021_6_1', 'IR_007_1',\n",
       "       'Ball_007_1', 'Ball_014_1', 'OR_021_6_1', 'IR_021_1', 'IR_014_1',\n",
       "       'OR_007_6_1', 'OR_014_6_1', 'OR_021_6_1', 'OR_014_6_1',\n",
       "       'Ball_014_1', 'Ball_007_1', 'IR_014_1', 'Ball_014_1', 'Ball_021_1',\n",
       "       'IR_021_1', 'Ball_014_1', 'Normal_1', 'Ball_021_1', 'IR_014_1',\n",
       "       'Normal_1', 'OR_014_6_1', 'Ball_014_1', 'Ball_007_1', 'OR_014_6_1',\n",
       "       'OR_007_6_1', 'Normal_1', 'Normal_1', 'IR_007_1', 'Ball_014_1',\n",
       "       'OR_014_6_1', 'OR_021_6_1', 'IR_007_1', 'Ball_021_1', 'IR_007_1',\n",
       "       'Ball_021_1', 'Ball_014_1', 'OR_021_6_1', 'Ball_007_1', 'IR_021_1',\n",
       "       'OR_014_6_1', 'Normal_1', 'Ball_021_1', 'OR_007_6_1', 'OR_021_6_1',\n",
       "       'Normal_1', 'OR_007_6_1', 'IR_021_1', 'OR_021_6_1', 'IR_007_1',\n",
       "       'IR_007_1', 'Ball_021_1', 'IR_021_1', 'OR_014_6_1', 'IR_007_1',\n",
       "       'Ball_007_1', 'OR_021_6_1', 'OR_021_6_1', 'OR_021_6_1',\n",
       "       'Ball_007_1', 'IR_021_1', 'Ball_021_1', 'Normal_1', 'OR_014_6_1',\n",
       "       'Ball_021_1', 'OR_021_6_1', 'Normal_1', 'Ball_007_1', 'IR_021_1',\n",
       "       'OR_014_6_1', 'IR_007_1', 'OR_021_6_1', 'OR_014_6_1', 'OR_014_6_1',\n",
       "       'Ball_007_1', 'OR_021_6_1', 'OR_021_6_1', 'Ball_021_1',\n",
       "       'Ball_021_1', 'OR_007_6_1', 'Ball_007_1', 'Ball_021_1',\n",
       "       'OR_014_6_1', 'OR_021_6_1', 'OR_007_6_1', 'IR_007_1', 'Ball_021_1',\n",
       "       'Ball_014_1', 'IR_021_1', 'OR_014_6_1', 'OR_014_6_1', 'IR_021_1',\n",
       "       'IR_014_1', 'Ball_014_1', 'OR_021_6_1', 'OR_014_6_1', 'Ball_014_1',\n",
       "       'OR_021_6_1', 'IR_007_1', 'IR_007_1', 'Normal_1', 'OR_021_6_1',\n",
       "       'IR_014_1', 'OR_021_6_1', 'IR_007_1', 'OR_007_6_1', 'OR_007_6_1',\n",
       "       'IR_007_1', 'IR_007_1', 'IR_007_1', 'IR_007_1', 'Ball_014_1',\n",
       "       'Ball_014_1', 'Ball_021_1', 'OR_007_6_1', 'Ball_014_1',\n",
       "       'Ball_014_1', 'IR_021_1', 'IR_014_1', 'Normal_1', 'IR_014_1',\n",
       "       'IR_007_1', 'OR_014_6_1', 'Ball_007_1', 'Normal_1', 'Normal_1',\n",
       "       'Ball_014_1', 'OR_014_6_1', 'Ball_021_1', 'Normal_1', 'Normal_1',\n",
       "       'Ball_014_1', 'IR_007_1', 'Normal_1', 'Ball_021_1', 'Ball_007_1',\n",
       "       'OR_021_6_1', 'IR_021_1', 'IR_007_1', 'OR_007_6_1', 'Ball_021_1',\n",
       "       'Ball_014_1', 'OR_014_6_1', 'OR_021_6_1', 'IR_021_1', 'Ball_014_1',\n",
       "       'Normal_1', 'Ball_014_1', 'Ball_007_1', 'Ball_007_1', 'Ball_007_1',\n",
       "       'OR_007_6_1', 'IR_021_1', 'Ball_014_1', 'IR_021_1', 'IR_014_1',\n",
       "       'OR_014_6_1', 'Ball_021_1', 'OR_021_6_1', 'OR_014_6_1',\n",
       "       'Ball_007_1', 'IR_007_1', 'Ball_007_1', 'Normal_1', 'IR_007_1',\n",
       "       'IR_014_1', 'IR_021_1', 'OR_021_6_1', 'Ball_021_1', 'IR_021_1',\n",
       "       'Ball_021_1', 'IR_014_1', 'OR_021_6_1', 'Normal_1', 'OR_014_6_1',\n",
       "       'IR_007_1', 'IR_014_1', 'OR_007_6_1', 'IR_007_1', 'Ball_021_1',\n",
       "       'Ball_014_1', 'Normal_1', 'Ball_007_1', 'IR_007_1', 'OR_014_6_1',\n",
       "       'Normal_1', 'IR_021_1', 'IR_021_1', 'OR_014_6_1', 'IR_021_1',\n",
       "       'Ball_014_1', 'OR_007_6_1', 'IR_007_1', 'IR_021_1', 'Ball_007_1',\n",
       "       'OR_007_6_1', 'Ball_007_1', 'OR_021_6_1', 'OR_021_6_1',\n",
       "       'OR_014_6_1', 'IR_014_1', 'Ball_014_1', 'IR_014_1', 'IR_021_1',\n",
       "       'IR_014_1', 'IR_007_1', 'OR_014_6_1', 'Ball_007_1', 'Ball_021_1',\n",
       "       'Ball_021_1', 'OR_007_6_1', 'IR_014_1', 'IR_014_1', 'OR_014_6_1',\n",
       "       'Normal_1', 'IR_007_1', 'OR_007_6_1', 'IR_007_1', 'IR_021_1',\n",
       "       'OR_021_6_1', 'Ball_021_1', 'Normal_1', 'OR_014_6_1', 'OR_021_6_1',\n",
       "       'Ball_014_1', 'OR_014_6_1', 'OR_021_6_1', 'Ball_007_1', 'IR_014_1',\n",
       "       'Ball_014_1', 'Ball_014_1', 'Ball_021_1', 'Normal_1', 'IR_007_1',\n",
       "       'OR_014_6_1', 'OR_007_6_1', 'IR_014_1', 'IR_014_1', 'OR_021_6_1',\n",
       "       'Ball_021_1', 'IR_021_1', 'OR_014_6_1', 'OR_007_6_1', 'OR_014_6_1',\n",
       "       'OR_014_6_1', 'Ball_007_1', 'OR_021_6_1', 'Ball_014_1',\n",
       "       'OR_021_6_1', 'Ball_014_1', 'Ball_007_1', 'IR_014_1', 'Normal_1',\n",
       "       'Ball_007_1', 'Ball_014_1', 'Ball_021_1', 'OR_014_6_1', 'IR_021_1',\n",
       "       'IR_007_1', 'OR_021_6_1', 'IR_021_1', 'IR_014_1', 'IR_021_1',\n",
       "       'IR_021_1', 'OR_021_6_1', 'IR_007_1', 'OR_007_6_1', 'Ball_007_1',\n",
       "       'IR_007_1', 'IR_014_1', 'Ball_021_1', 'IR_014_1', 'OR_021_6_1',\n",
       "       'Normal_1', 'Normal_1', 'OR_014_6_1', 'OR_021_6_1', 'OR_007_6_1',\n",
       "       'OR_007_6_1', 'Ball_007_1', 'OR_007_6_1', 'Ball_014_1',\n",
       "       'Ball_007_1', 'OR_007_6_1', 'OR_021_6_1', 'Ball_014_1', 'IR_007_1',\n",
       "       'OR_014_6_1', 'IR_014_1', 'Normal_1', 'OR_021_6_1', 'Ball_007_1',\n",
       "       'Normal_1', 'OR_021_6_1', 'OR_007_6_1', 'IR_014_1', 'IR_014_1',\n",
       "       'OR_014_6_1', 'IR_007_1', 'Ball_014_1', 'IR_021_1', 'OR_007_6_1',\n",
       "       'IR_007_1', 'IR_007_1', 'OR_007_6_1', 'Normal_1', 'OR_021_6_1',\n",
       "       'OR_021_6_1', 'Ball_014_1', 'OR_014_6_1', 'OR_007_6_1',\n",
       "       'OR_007_6_1', 'OR_014_6_1', 'Ball_007_1', 'OR_007_6_1',\n",
       "       'OR_007_6_1', 'OR_007_6_1', 'OR_014_6_1', 'OR_021_6_1',\n",
       "       'OR_014_6_1', 'Ball_021_1', 'OR_021_6_1', 'OR_007_6_1', 'IR_014_1',\n",
       "       'Ball_021_1', 'OR_007_6_1', 'Ball_021_1', 'IR_021_1', 'IR_014_1',\n",
       "       'Normal_1', 'IR_021_1', 'IR_021_1', 'Ball_014_1', 'Ball_007_1',\n",
       "       'OR_014_6_1', 'IR_007_1', 'IR_021_1', 'IR_014_1', 'Ball_021_1',\n",
       "       'OR_007_6_1', 'IR_014_1', 'OR_007_6_1', 'Ball_021_1', 'IR_014_1',\n",
       "       'Ball_021_1', 'IR_014_1', 'IR_007_1', 'Ball_007_1', 'IR_014_1',\n",
       "       'OR_014_6_1', 'Ball_014_1', 'Ball_021_1', 'Normal_1', 'Ball_007_1',\n",
       "       'IR_007_1', 'IR_007_1', 'IR_007_1', 'OR_021_6_1', 'Ball_007_1',\n",
       "       'OR_007_6_1', 'OR_007_6_1', 'IR_021_1', 'IR_007_1', 'Normal_1',\n",
       "       'Normal_1', 'OR_021_6_1', 'OR_021_6_1', 'Normal_1', 'OR_021_6_1',\n",
       "       'Ball_021_1', 'OR_014_6_1', 'Ball_007_1', 'Ball_007_1',\n",
       "       'Ball_007_1', 'IR_014_1', 'IR_007_1', 'OR_014_6_1', 'OR_007_6_1',\n",
       "       'IR_014_1', 'OR_014_6_1', 'OR_021_6_1', 'OR_021_6_1', 'OR_007_6_1',\n",
       "       'IR_021_1', 'Ball_021_1', 'Ball_021_1', 'IR_007_1', 'Ball_021_1',\n",
       "       'Normal_1', 'IR_007_1', 'Normal_1', 'Normal_1', 'OR_014_6_1',\n",
       "       'Ball_021_1', 'OR_007_6_1', 'OR_014_6_1', 'OR_014_6_1',\n",
       "       'Ball_021_1', 'IR_021_1', 'Ball_014_1', 'Ball_021_1', 'IR_007_1',\n",
       "       'OR_007_6_1', 'Normal_1', 'Ball_014_1', 'IR_007_1', 'Ball_014_1',\n",
       "       'IR_014_1', 'Ball_014_1', 'IR_021_1', 'Ball_014_1', 'IR_014_1',\n",
       "       'OR_021_6_1', 'IR_014_1', 'OR_014_6_1', 'IR_014_1', 'OR_007_6_1',\n",
       "       'OR_014_6_1', 'IR_021_1', 'Normal_1', 'IR_021_1'], dtype=object)"
      ]
     },
     "execution_count": 65,
     "metadata": {},
     "output_type": "execute_result"
    }
   ],
   "source": [
    "test_predictions"
   ]
  },
  {
   "cell_type": "code",
   "execution_count": 66,
   "metadata": {},
   "outputs": [],
   "source": [
    "train_confu_matrix = confusion_matrix(train_data['fault'], train_predictions)\n",
    "test_confu_matrix = confusion_matrix(test_data['fault'], test_predictions)"
   ]
  },
  {
   "cell_type": "markdown",
   "metadata": {},
   "source": [
    "Train confusion matrix."
   ]
  },
  {
   "cell_type": "code",
   "execution_count": 67,
   "metadata": {},
   "outputs": [
    {
     "data": {
      "image/png": "[encoded data removed]",
      "text/plain": [
       "<Figure size 1296x576 with 2 Axes>"
      ]
     },
     "metadata": {
      "needs_background": "light"
     },
     "output_type": "display_data"
    }
   ],
   "source": [
    "fault_type = ['C1','C2','C3','C4','C5','C6','C7','C8','C9','C10']\n",
    "plt.figure(1,figsize=(18,8))\n",
    "plt.subplot(121)\n",
    "sns.heatmap(train_confu_matrix, annot= True,fmt = \"d\",\n",
    "xticklabels=fault_type, yticklabels=fault_type, cmap = \"Blues\", cbar = False)\n",
    "plt.title('Training Confusion Matrix')\n",
    "plt.xlabel('Predicted')\n",
    "plt.ylabel('True')\n",
    "plt.subplot(122)\n",
    "sns.heatmap(train_confu_matrix/155, annot= True,\n",
    "xticklabels=fault_type, yticklabels=fault_type, cmap = \"Blues\", cbar = False)\n",
    "plt.title('Training Confusion Matrix (in %age)')\n",
    "plt.xlabel('Predicted')\n",
    "plt.ylabel('True')\n",
    "plt.show()"
   ]
  },
  {
   "cell_type": "markdown",
   "metadata": {},
   "source": [
    "Test confusion matrix."
   ]
  },
  {
   "cell_type": "code",
   "execution_count": 68,
   "metadata": {},
   "outputs": [
    {
     "data": {
      "image/png": "[encoded data removed]",
      "text/plain": [
       "<Figure size 1296x576 with 2 Axes>"
      ]
     },
     "metadata": {
      "needs_background": "light"
     },
     "output_type": "display_data"
    }
   ],
   "source": [
    "plt.figure(2,figsize=(18,8))\n",
    "plt.subplot(121)\n",
    "sns.heatmap(test_confu_matrix, annot = True,\n",
    "xticklabels=fault_type, yticklabels=fault_type, cmap = \"Blues\", cbar = False)\n",
    "plt.title('Test Confusion Matrix')\n",
    "plt.xlabel('Predicted')\n",
    "plt.ylabel('True')\n",
    "plt.subplot(122)\n",
    "sns.heatmap(test_confu_matrix/75, annot = True,\n",
    "xticklabels=fault_type, yticklabels=fault_type, cmap = \"Blues\", cbar = False)\n",
    "plt.title('Test Confusion Matrix (in %age)')\n",
    "plt.xlabel('Predicted')\n",
    "plt.ylabel('True')\n",
    "plt.show()"
   ]
  },
  {
   "cell_type": "code",
   "execution_count": 69,
   "metadata": {},
   "outputs": [
    {
     "name": "stdout",
     "output_type": "stream",
     "text": [
      "Overall test accuracy:  0.9653333333333334\n"
     ]
    }
   ],
   "source": [
    "overall_test_accuracy = accuracy_score(test_data['fault'], test_predictions)\n",
    "print(\"Overall test accuracy: \", overall_test_accuracy)"
   ]
  },
  {
   "cell_type": "markdown",
   "metadata": {},
   "source": [
    "The overall test accuracy is 96.53% which is pretty satisfactory considering the fact that we are only taking time domain features. We will show in the next post that accuracy improves even further when wavelet features are used. Check [this page](https://biswajitsahoo1111.github.io/cbm_codes_open/) for other methods."
   ]
  }
 ],
 "metadata": {
  "kernelspec": {
   "display_name": "Python 3",
   "language": "python",
   "name": "python3"
  },
  "language_info": {
   "codemirror_mode": {
    "name": "ipython",
    "version": 3
   },
   "file_extension": ".py",
   "mimetype": "text/x-python",
   "name": "python",
   "nbconvert_exporter": "python",
   "pygments_lexer": "ipython3",
   "version": "3.7.9"
  }
 },
 "nbformat": 4,
 "nbformat_minor": 2
}
